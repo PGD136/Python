{
  "nbformat": 4,
  "nbformat_minor": 0,
  "metadata": {
    "colab": {
      "provenance": [],
      "collapsed_sections": []
    },
    "kernelspec": {
      "name": "python3",
      "display_name": "Python 3"
    },
    "language_info": {
      "name": "python"
    }
  },
  "cells": [
    {
      "cell_type": "code",
      "execution_count": 3,
      "metadata": {
        "colab": {
          "base_uri": "https://localhost:8080/"
        },
        "id": "mG0WTnfOtpyu",
        "outputId": "523f3827-d854-49e6-aa88-84dab009a316"
      },
      "outputs": [
        {
          "output_type": "stream",
          "name": "stdout",
          "text": [
            "Looking in indexes: https://pypi.org/simple, https://us-python.pkg.dev/colab-wheels/public/simple/\n",
            "Collecting azure-storage-blob\n",
            "  Downloading azure_storage_blob-12.14.1-py3-none-any.whl (383 kB)\n",
            "\u001b[K     |████████████████████████████████| 383 kB 5.3 MB/s \n",
            "\u001b[?25hCollecting cryptography>=2.1.4\n",
            "  Downloading cryptography-38.0.3-cp36-abi3-manylinux_2_24_x86_64.whl (4.1 MB)\n",
            "\u001b[K     |████████████████████████████████| 4.1 MB 45.4 MB/s \n",
            "\u001b[?25hCollecting azure-core<2.0.0,>=1.24.2\n",
            "  Downloading azure_core-1.26.1-py3-none-any.whl (172 kB)\n",
            "\u001b[K     |████████████████████████████████| 172 kB 54.0 MB/s \n",
            "\u001b[?25hCollecting msrest>=0.7.1\n",
            "  Downloading msrest-0.7.1-py3-none-any.whl (85 kB)\n",
            "\u001b[K     |████████████████████████████████| 85 kB 3.6 MB/s \n",
            "\u001b[?25hRequirement already satisfied: requests>=2.18.4 in /usr/local/lib/python3.7/dist-packages (from azure-core<2.0.0,>=1.24.2->azure-storage-blob) (2.23.0)\n",
            "Requirement already satisfied: typing-extensions>=4.0.1 in /usr/local/lib/python3.7/dist-packages (from azure-core<2.0.0,>=1.24.2->azure-storage-blob) (4.1.1)\n",
            "Requirement already satisfied: six>=1.11.0 in /usr/local/lib/python3.7/dist-packages (from azure-core<2.0.0,>=1.24.2->azure-storage-blob) (1.15.0)\n",
            "Requirement already satisfied: cffi>=1.12 in /usr/local/lib/python3.7/dist-packages (from cryptography>=2.1.4->azure-storage-blob) (1.15.1)\n",
            "Requirement already satisfied: pycparser in /usr/local/lib/python3.7/dist-packages (from cffi>=1.12->cryptography>=2.1.4->azure-storage-blob) (2.21)\n",
            "Requirement already satisfied: certifi>=2017.4.17 in /usr/local/lib/python3.7/dist-packages (from msrest>=0.7.1->azure-storage-blob) (2022.9.24)\n",
            "Collecting isodate>=0.6.0\n",
            "  Downloading isodate-0.6.1-py2.py3-none-any.whl (41 kB)\n",
            "\u001b[K     |████████████████████████████████| 41 kB 539 kB/s \n",
            "\u001b[?25hRequirement already satisfied: requests-oauthlib>=0.5.0 in /usr/local/lib/python3.7/dist-packages (from msrest>=0.7.1->azure-storage-blob) (1.3.1)\n",
            "Requirement already satisfied: idna<3,>=2.5 in /usr/local/lib/python3.7/dist-packages (from requests>=2.18.4->azure-core<2.0.0,>=1.24.2->azure-storage-blob) (2.10)\n",
            "Requirement already satisfied: chardet<4,>=3.0.2 in /usr/local/lib/python3.7/dist-packages (from requests>=2.18.4->azure-core<2.0.0,>=1.24.2->azure-storage-blob) (3.0.4)\n",
            "Requirement already satisfied: urllib3!=1.25.0,!=1.25.1,<1.26,>=1.21.1 in /usr/local/lib/python3.7/dist-packages (from requests>=2.18.4->azure-core<2.0.0,>=1.24.2->azure-storage-blob) (1.24.3)\n",
            "Requirement already satisfied: oauthlib>=3.0.0 in /usr/local/lib/python3.7/dist-packages (from requests-oauthlib>=0.5.0->msrest>=0.7.1->azure-storage-blob) (3.2.2)\n",
            "Installing collected packages: isodate, azure-core, msrest, cryptography, azure-storage-blob\n",
            "Successfully installed azure-core-1.26.1 azure-storage-blob-12.14.1 cryptography-38.0.3 isodate-0.6.1 msrest-0.7.1\n"
          ]
        }
      ],
      "source": [
        "!pip install azure-storage-blob"
      ]
    },
    {
      "cell_type": "code",
      "source": [
        "# 필요한 패키지를 불러옵니다. \n",
        "import os, uuid\n",
        "from azure.storage.blob import BlobServiceClient, BlobClient, ContainerClient"
      ],
      "metadata": {
        "id": "txb0p3qHuD-u"
      },
      "execution_count": 5,
      "outputs": []
    },
    {
      "cell_type": "code",
      "source": [
        "# Blob 서비스에 연결합니다.\n",
        "connect_string = 'DefaultEndpointsProtocol=https;AccountName=labuser66storage2;AccountKey=8DE+yDiqRf/w/OnSqs1b4287n2GRZArI1rV3ATELBvGYECjbS+Ozj/ieTvLYsNrZe/D6E7rxtU21+AStv+ZdZw==;EndpointSuffix=core.windows.net'\n",
        "\n",
        "blob_service_client = BlobServiceClient.from_connection_string(connect_string)"
      ],
      "metadata": {
        "id": "Ne5hfXFDuuQZ"
      },
      "execution_count": 6,
      "outputs": []
    },
    {
      "cell_type": "code",
      "source": [
        "# Container 생성한다.\n",
        "container_name = str(uuid.uuid4()) # 난수 숫자열 생성\n",
        "print(container_name)\n",
        "\n",
        "container_client = blob_service_client.create_container(container_name) # 컨테이너 생성"
      ],
      "metadata": {
        "colab": {
          "base_uri": "https://localhost:8080/"
        },
        "id": "Zo3OQZtKv5NE",
        "outputId": "947b059b-547c-45d5-e6eb-63e63767e637"
      },
      "execution_count": 9,
      "outputs": [
        {
          "output_type": "stream",
          "name": "stdout",
          "text": [
            "986472de-f72f-48fe-a5e9-4e4cfb97601e\n"
          ]
        }
      ]
    },
    {
      "cell_type": "code",
      "source": [
        "# 데이터를 업로드 한다.\n",
        "local_path = './data'# 로컬 경로\n",
        "os.mkdir(local_path)\n",
        "local_file_name = str(uuid.uuid4()) + '.txt' # 로컬 파일이름 생성\n",
        "upload_file_path = os.path.join(local_path, local_file_name) # 업로드 파일 전체 경로"
      ],
      "metadata": {
        "id": "ceg6X7O9wVCX"
      },
      "execution_count": 10,
      "outputs": []
    },
    {
      "cell_type": "code",
      "source": [
        "# 업로드 할 파일을 준비한다.\n",
        "file = open(file=upload_file_path, mode='w') # 파일 쓰기모드 열기\n",
        "file.write('Hello Azure Storage') # 파일 작성\n",
        "file.close() # 파일 닫기\n",
        "\n",
        "blob_client = blob_service_client.get_blob_client(container=container_name, \n",
        "                                                  blob=local_file_name) # 업로드 준비(이름, 위치)\n",
        "# 파일 업로드\n",
        "with open(file=upload_file_path, mode='rb') as data: # 읽기모드 데이터 가져오기\n",
        "    blob_client.upload_blob(data)"
      ],
      "metadata": {
        "id": "zQI3-u9Cx8Vs"
      },
      "execution_count": 12,
      "outputs": []
    },
    {
      "cell_type": "code",
      "source": [
        "# 파일의 목록 확인\n",
        "blob_list = container_client.list_blobs()\n",
        "for blob in blob_list:\n",
        "    print('\\t' + blob.name)"
      ],
      "metadata": {
        "colab": {
          "base_uri": "https://localhost:8080/"
        },
        "id": "AVlyEDLpziP3",
        "outputId": "b2493f61-4709-4eda-b824-4c8fb674ed66"
      },
      "execution_count": 14,
      "outputs": [
        {
          "output_type": "stream",
          "name": "stdout",
          "text": [
            "\tb60ed15a-6ac7-4340-9177-d27719d95004.txt\n"
          ]
        }
      ]
    },
    {
      "cell_type": "code",
      "source": [
        "#업로드된 파일의 다운로드 \n",
        "\n",
        "download_file_path = os.path.join(local_path, \n",
        "                                  str.replace(local_file_name,'.txt','DOWNLOAD.txt'))\n",
        "container_client = blob_service_client.get_container_client(container= container_name) \n",
        "\n",
        "with open(file=download_file_path, mode='wb') as download_file:\n",
        "  download_file.write(container_client.download_blob(blob.name).readall())"
      ],
      "metadata": {
        "id": "6SLaA70L1RC2"
      },
      "execution_count": 18,
      "outputs": []
    },
    {
      "cell_type": "code",
      "source": [
        "# 실습한 자원의 정리(삭제)\n",
        "print('Press the Enter key to begin clean up')\n",
        "input()\n",
        "\n",
        "print('Deleting blob container...')\n",
        "container_client.delete_container()\n",
        "\n",
        "print('Deleting the local source and downloaded files...')\n",
        "os.remove(upload_file_path)\n",
        "os.remove(download_file_path)\n",
        "os.rmdir(local_path)\n",
        "\n",
        "print('Done')"
      ],
      "metadata": {
        "colab": {
          "base_uri": "https://localhost:8080/"
        },
        "id": "uowwCVPQ3OU0",
        "outputId": "a3436091-f3ac-4f18-de32-57eb2dd49a03"
      },
      "execution_count": 19,
      "outputs": [
        {
          "output_type": "stream",
          "name": "stdout",
          "text": [
            "Press the Enter key to begin clean up\n",
            "\n",
            "Deleting blob container...\n",
            "Deleting the local source and downloaded files...\n",
            "Done\n"
          ]
        }
      ]
    },
    {
      "cell_type": "code",
      "source": [],
      "metadata": {
        "id": "NLyAtYAY7UkX"
      },
      "execution_count": null,
      "outputs": []
    }
  ]
}