{
  "nbformat": 4,
  "nbformat_minor": 0,
  "metadata": {
    "colab": {
      "provenance": [],
      "collapsed_sections": []
    },
    "kernelspec": {
      "name": "python3",
      "display_name": "Python 3"
    },
    "language_info": {
      "name": "python"
    }
  },
  "cells": [
    {
      "cell_type": "code",
      "execution_count": null,
      "metadata": {
        "colab": {
          "base_uri": "https://localhost:8080/"
        },
        "id": "H6--fsBNJOFh",
        "outputId": "a8351284-0757-4d52-d2c3-1568e9996f8e"
      },
      "outputs": [
        {
          "output_type": "stream",
          "name": "stdout",
          "text": [
            "Looking in indexes: https://pypi.org/simple, https://us-python.pkg.dev/colab-wheels/public/simple/\n",
            "Collecting azure-storage-file\n",
            "  Downloading azure_storage_file-2.1.0-py2.py3-none-any.whl (36 kB)\n",
            "Collecting azure-storage-common~=2.1\n",
            "  Downloading azure_storage_common-2.1.0-py2.py3-none-any.whl (47 kB)\n",
            "\u001b[K     |████████████████████████████████| 47 kB 2.5 MB/s \n",
            "\u001b[?25hCollecting azure-common>=1.1.5\n",
            "  Downloading azure_common-1.1.28-py2.py3-none-any.whl (14 kB)\n",
            "Collecting cryptography\n",
            "  Downloading cryptography-38.0.3-cp36-abi3-manylinux_2_24_x86_64.whl (4.1 MB)\n",
            "\u001b[K     |████████████████████████████████| 4.1 MB 11.5 MB/s \n",
            "\u001b[?25hRequirement already satisfied: requests in /usr/local/lib/python3.7/dist-packages (from azure-storage-common~=2.1->azure-storage-file) (2.23.0)\n",
            "Requirement already satisfied: python-dateutil in /usr/local/lib/python3.7/dist-packages (from azure-storage-common~=2.1->azure-storage-file) (2.8.2)\n",
            "Requirement already satisfied: cffi>=1.12 in /usr/local/lib/python3.7/dist-packages (from cryptography->azure-storage-common~=2.1->azure-storage-file) (1.15.1)\n",
            "Requirement already satisfied: pycparser in /usr/local/lib/python3.7/dist-packages (from cffi>=1.12->cryptography->azure-storage-common~=2.1->azure-storage-file) (2.21)\n",
            "Requirement already satisfied: six>=1.5 in /usr/local/lib/python3.7/dist-packages (from python-dateutil->azure-storage-common~=2.1->azure-storage-file) (1.15.0)\n",
            "Requirement already satisfied: urllib3!=1.25.0,!=1.25.1,<1.26,>=1.21.1 in /usr/local/lib/python3.7/dist-packages (from requests->azure-storage-common~=2.1->azure-storage-file) (1.24.3)\n",
            "Requirement already satisfied: chardet<4,>=3.0.2 in /usr/local/lib/python3.7/dist-packages (from requests->azure-storage-common~=2.1->azure-storage-file) (3.0.4)\n",
            "Requirement already satisfied: idna<3,>=2.5 in /usr/local/lib/python3.7/dist-packages (from requests->azure-storage-common~=2.1->azure-storage-file) (2.10)\n",
            "Requirement already satisfied: certifi>=2017.4.17 in /usr/local/lib/python3.7/dist-packages (from requests->azure-storage-common~=2.1->azure-storage-file) (2022.9.24)\n",
            "Installing collected packages: cryptography, azure-common, azure-storage-common, azure-storage-file\n",
            "Successfully installed azure-common-1.1.28 azure-storage-common-2.1.0 azure-storage-file-2.1.0 cryptography-38.0.3\n"
          ]
        }
      ],
      "source": [
        "!pip install azure-storage-file"
      ]
    },
    {
      "cell_type": "code",
      "source": [
        "# File Share 연결코드\n",
        "\n",
        "from azure.storage.file import FileService\n",
        "file_service = FileService(account_name='labuser66storage2',\n",
        "                           account_key='horCBzK+s4GsdDyeyBkyMYSEN+HG+Di4q7rOnw3bZRYII2OLMWPi6ASjyWWAxkS8hOToXeF7Ltkk+AStXwbIpA==')\n",
        "\n"
      ],
      "metadata": {
        "id": "xjcV9c0IJouq"
      },
      "execution_count": null,
      "outputs": []
    },
    {
      "cell_type": "code",
      "source": [
        "# Mysgare 공유 폴더 생성\n",
        "file_service.create_share('myshare')"
      ],
      "metadata": {
        "colab": {
          "base_uri": "https://localhost:8080/"
        },
        "id": "SZ5AntsmM33b",
        "outputId": "af2cae5d-0372-4aee-9d4f-6c0237a92fab"
      },
      "execution_count": null,
      "outputs": [
        {
          "output_type": "execute_result",
          "data": {
            "text/plain": [
              "True"
            ]
          },
          "metadata": {},
          "execution_count": 3
        }
      ]
    },
    {
      "cell_type": "code",
      "source": [
        "# myshar폴더에 디렉토리인 sampledir 폴더 생성\n",
        "file_service.create_directory('myshare','sampledir')"
      ],
      "metadata": {
        "colab": {
          "base_uri": "https://localhost:8080/"
        },
        "id": "PRJrQxOtNHEd",
        "outputId": "f9db2c18-67fb-4923-b0bf-12ccb1209df1"
      },
      "execution_count": null,
      "outputs": [
        {
          "output_type": "execute_result",
          "data": {
            "text/plain": [
              "True"
            ]
          },
          "metadata": {},
          "execution_count": 4
        }
      ]
    },
    {
      "cell_type": "code",
      "source": [
        "# 이미지를 myfile로 해당 공유 폴더에 복사한다. \n",
        "from azure.storage.file import ContentSettings\n",
        "\n",
        "file_service.create_file_from_path('myshare', # 파일 경로\n",
        "                                   None,\n",
        "                                   'myfile', # 파일 이름\n",
        "                                   'tangsu6.jpeg', # 파일 내용\n",
        "                                   content_settings=ContentSettings(content_type='image/jpg')) # 파일 종류"
      ],
      "metadata": {
        "id": "r9Lq33aWNloI"
      },
      "execution_count": null,
      "outputs": []
    },
    {
      "cell_type": "code",
      "source": [
        "# 공유 폴더안에 파일 목록을 가져와서 보여준다.\n",
        "\n",
        "generator = file_service.list_directories_and_files('myshare')\n",
        "for file_or_dir in generator:\n",
        "    print(file_or_dir.name)"
      ],
      "metadata": {
        "colab": {
          "base_uri": "https://localhost:8080/"
        },
        "id": "5LN0a86aO-E4",
        "outputId": "614e51a2-479e-4ff7-ddc3-275f0a756a7f"
      },
      "execution_count": null,
      "outputs": [
        {
          "output_type": "stream",
          "name": "stdout",
          "text": [
            "myfile\n",
            "sampledir\n"
          ]
        }
      ]
    },
    {
      "cell_type": "code",
      "source": [
        "# 다시 myfile로 복사된 Tangsu6.jpg를 out-tangsu6.jpg로 가져온다\n",
        "file_service.get_file_to_path('myshare',None, 'myfile', 'out-tangsu6.jpg') # 파일 사진 다운로드"
      ],
      "metadata": {
        "colab": {
          "base_uri": "https://localhost:8080/"
        },
        "id": "6mIBTQTRPsOY",
        "outputId": "0178c113-c63d-4ce9-819b-acb5fa54f77b"
      },
      "execution_count": null,
      "outputs": [
        {
          "output_type": "execute_result",
          "data": {
            "text/plain": [
              "<azure.storage.file.models.File at 0x7ff2c61ff910>"
            ]
          },
          "metadata": {},
          "execution_count": 9
        }
      ]
    },
    {
      "cell_type": "markdown",
      "source": [
        "#스냅샷(Snapshot) - 청사진,BluePrint"
      ],
      "metadata": {
        "id": "qzjAxSOdnjTh"
      }
    },
    {
      "cell_type": "code",
      "source": [
        "# 스냅샷을 찍어둔다.\n",
        "metadata = {\"foo\" : \"bar\"}\n",
        "snapshot = file_service.snapshot_share('myshare', metadata=metadata) # 스냅샷 작동"
      ],
      "metadata": {
        "id": "M7V2i0xaQZrf"
      },
      "execution_count": null,
      "outputs": []
    },
    {
      "cell_type": "code",
      "source": [
        "# 전체 스냅샷의 목록을 가져온다.\n",
        "shares = list(file_service.list_shares(include_snapshots=True)) # 스냅샷 리스트\n",
        "for s in shares:\n",
        "    print(s.snapshot)"
      ],
      "metadata": {
        "colab": {
          "base_uri": "https://localhost:8080/"
        },
        "id": "tfZ9PBeDn07T",
        "outputId": "ef65069b-75c8-48b4-d759-756460ff1f87"
      },
      "execution_count": null,
      "outputs": [
        {
          "output_type": "stream",
          "name": "stdout",
          "text": [
            "2022-11-08T00:20:01.0000000Z\n",
            "2022-11-08T00:27:48.0000000Z\n",
            "None\n"
          ]
        }
      ]
    },
    {
      "cell_type": "code",
      "source": [
        "# 스넵샷의 파일과 디렉토리 목록을 가져온다. \n",
        "\n",
        "directories_and_files = list(\n",
        "    file_service.list_directories_and_files('myshare', snapshot='2022-11-08T00:27:48.0000000Z'))"
      ],
      "metadata": {
        "id": "pxDIU04rn2gG"
      },
      "execution_count": null,
      "outputs": []
    },
    {
      "cell_type": "code",
      "source": [
        "# 파일과 디렉토리 목록을 출력한다. \n",
        "\n",
        "directories_and_files\n",
        "for file_or_dir in generator:\n",
        "    print(file_or_dir.name)"
      ],
      "metadata": {
        "colab": {
          "base_uri": "https://localhost:8080/"
        },
        "id": "9VrXKrIIo1tT",
        "outputId": "fa730e5a-fa0b-47fe-dad1-39f25424dcfa"
      },
      "execution_count": null,
      "outputs": [
        {
          "output_type": "stream",
          "name": "stdout",
          "text": [
            "myfile\n",
            "sampledir\n"
          ]
        }
      ]
    },
    {
      "cell_type": "code",
      "source": [
        "# 스넵샷의 삭제 \n",
        "\n",
        "file_service.delete_share('myshare', snapshot='2022-11-08T00:24:18.0000000Z')"
      ],
      "metadata": {
        "colab": {
          "base_uri": "https://localhost:8080/"
        },
        "id": "u0QFuuQAq5pU",
        "outputId": "6f78b836-8260-4dc4-eeee-d6a5333ccae5"
      },
      "execution_count": null,
      "outputs": [
        {
          "output_type": "stream",
          "name": "stderr",
          "text": [
            "ERROR:azure.storage.common.storageclient:Client-Request-ID=a200c146-5efd-11ed-805f-0242ac1c0002 Retry policy did not allow for a retry: Server-Timestamp=Tue, 08 Nov 2022 00:38:15 GMT, Server-Request-ID=5b967780-301a-0069-300a-f3b22b000000, HTTP status code=404, Exception=The specified share snapshot was not found. ErrorCode: ShareSnapshotNotFound<?xml version=\"1.0\" encoding=\"utf-8\"?><Error><Code>ShareSnapshotNotFound</Code><Message>The specified share snapshot was not found.RequestId:5b967780-301a-0069-300a-f3b22b000000Time:2022-11-08T00:38:15.8116684Z</Message></Error>.\n"
          ]
        },
        {
          "output_type": "execute_result",
          "data": {
            "text/plain": [
              "False"
            ]
          },
          "metadata": {},
          "execution_count": 17
        }
      ]
    },
    {
      "cell_type": "code",
      "source": [
        "# 공유 폴더내의 파일의 삭제\n",
        "\n",
        "file_service.delete_file('myshare', None, 'myfile')"
      ],
      "metadata": {
        "id": "FGFN8RWPrGSZ"
      },
      "execution_count": null,
      "outputs": []
    },
    {
      "cell_type": "code",
      "source": [
        "# 공유 폴더의 삭제 \n",
        "\n",
        "file_service.delete_share('myshare')"
      ],
      "metadata": {
        "colab": {
          "base_uri": "https://localhost:8080/"
        },
        "id": "med7f-4JrG-j",
        "outputId": "855e5efd-df3c-41ca-e330-7e07eab81f2d"
      },
      "execution_count": null,
      "outputs": [
        {
          "output_type": "execute_result",
          "data": {
            "text/plain": [
              "True"
            ]
          },
          "metadata": {},
          "execution_count": 22
        }
      ]
    },
    {
      "cell_type": "code",
      "source": [],
      "metadata": {
        "id": "JT8Nplv7rIgX"
      },
      "execution_count": null,
      "outputs": []
    }
  ]
}