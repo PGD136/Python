{
  "nbformat": 4,
  "nbformat_minor": 0,
  "metadata": {
    "colab": {
      "provenance": [],
      "collapsed_sections": []
    },
    "kernelspec": {
      "name": "python3",
      "display_name": "Python 3"
    },
    "language_info": {
      "name": "python"
    }
  },
  "cells": [
    {
      "cell_type": "code",
      "execution_count": 15,
      "metadata": {
        "colab": {
          "base_uri": "https://localhost:8080/"
        },
        "id": "PhbuXCbazlg_",
        "outputId": "ac121c77-23f4-4a27-88ec-fb89de18363d"
      },
      "outputs": [
        {
          "output_type": "stream",
          "name": "stdout",
          "text": [
            "Looking in indexes: https://pypi.org/simple, https://us-python.pkg.dev/colab-wheels/public/simple/\n",
            "Requirement already satisfied: azure-storage-queue==2.1.0 in /usr/local/lib/python3.7/dist-packages (2.1.0)\n",
            "Requirement already satisfied: azure-common>=1.1.5 in /usr/local/lib/python3.7/dist-packages (from azure-storage-queue==2.1.0) (1.1.28)\n",
            "Requirement already satisfied: azure-storage-common~=2.1 in /usr/local/lib/python3.7/dist-packages (from azure-storage-queue==2.1.0) (2.1.0)\n",
            "Requirement already satisfied: python-dateutil in /usr/local/lib/python3.7/dist-packages (from azure-storage-common~=2.1->azure-storage-queue==2.1.0) (2.8.2)\n",
            "Requirement already satisfied: requests in /usr/local/lib/python3.7/dist-packages (from azure-storage-common~=2.1->azure-storage-queue==2.1.0) (2.23.0)\n",
            "Requirement already satisfied: cryptography in /usr/local/lib/python3.7/dist-packages (from azure-storage-common~=2.1->azure-storage-queue==2.1.0) (38.0.3)\n",
            "Requirement already satisfied: cffi>=1.12 in /usr/local/lib/python3.7/dist-packages (from cryptography->azure-storage-common~=2.1->azure-storage-queue==2.1.0) (1.15.1)\n",
            "Requirement already satisfied: pycparser in /usr/local/lib/python3.7/dist-packages (from cffi>=1.12->cryptography->azure-storage-common~=2.1->azure-storage-queue==2.1.0) (2.21)\n",
            "Requirement already satisfied: six>=1.5 in /usr/local/lib/python3.7/dist-packages (from python-dateutil->azure-storage-common~=2.1->azure-storage-queue==2.1.0) (1.15.0)\n",
            "Requirement already satisfied: urllib3!=1.25.0,!=1.25.1,<1.26,>=1.21.1 in /usr/local/lib/python3.7/dist-packages (from requests->azure-storage-common~=2.1->azure-storage-queue==2.1.0) (1.24.3)\n",
            "Requirement already satisfied: chardet<4,>=3.0.2 in /usr/local/lib/python3.7/dist-packages (from requests->azure-storage-common~=2.1->azure-storage-queue==2.1.0) (3.0.4)\n",
            "Requirement already satisfied: certifi>=2017.4.17 in /usr/local/lib/python3.7/dist-packages (from requests->azure-storage-common~=2.1->azure-storage-queue==2.1.0) (2022.9.24)\n",
            "Requirement already satisfied: idna<3,>=2.5 in /usr/local/lib/python3.7/dist-packages (from requests->azure-storage-common~=2.1->azure-storage-queue==2.1.0) (2.10)\n"
          ]
        }
      ],
      "source": [
        "!pip install azure-storage-queue==2.1.0"
      ]
    },
    {
      "cell_type": "code",
      "source": [
        "from azure.storage.queue import QueueService, QueueMessageFormat # 큐 패키지"
      ],
      "metadata": {
        "id": "ry9ueX9hz1ch"
      },
      "execution_count": 16,
      "outputs": []
    },
    {
      "cell_type": "code",
      "source": [
        "import os, uuid # 유틸리티 패키지"
      ],
      "metadata": {
        "id": "-2rDMLb40dS6"
      },
      "execution_count": 17,
      "outputs": []
    },
    {
      "cell_type": "code",
      "source": [
        "connect_str = 'DefaultEndpointsProtocol=https;AccountName=labuser66storage2;AccountKey=horCBzK+s4GsdDyeyBkyMYSEN+HG+Di4q7rOnw3bZRYII2OLMWPi6ASjyWWAxkS8hOToXeF7Ltkk+AStXwbIpA==;EndpointSuffix=core.windows.net' # 연결 문자열\n",
        "queue_name = 'queue-' + str(uuid.uuid4()) # 큐 난수로 이름 생성\n",
        "\n",
        "print('Creating queue : ' + queue_name) # 이름 확인\n",
        "queue_service = QueueService(connection_string=connect_str) \n",
        "\n",
        "queue_service.create_queue(queue_name) # 큐 등록"
      ],
      "metadata": {
        "colab": {
          "base_uri": "https://localhost:8080/"
        },
        "id": "R7-IY8Qk0nfk",
        "outputId": "ea7739d0-1ac5-42c4-c51e-58c5e0067ddc"
      },
      "execution_count": 18,
      "outputs": [
        {
          "output_type": "stream",
          "name": "stdout",
          "text": [
            "Creating queue : queue-624d620f-99c4-44f5-8f9f-7fe92c758840\n"
          ]
        },
        {
          "output_type": "execute_result",
          "data": {
            "text/plain": [
              "True"
            ]
          },
          "metadata": {},
          "execution_count": 18
        }
      ]
    },
    {
      "cell_type": "code",
      "source": [
        "import base64 # 베이직64 인코딩 변환 받을때 디코팅\n",
        "queue_service.encode_function = QueueMessageFormat.binary_base64encode # 인코딩\n",
        "queue_service.decode_function = QueueMessageFormat.binary_base64decode # 디코딩\n",
        "message = 'Hello Queue'\n",
        "\n",
        "print('Adding message : ' + message)\n",
        "message = base64.b64encode(message.encode('utf-8')) # 유니코드로 변경\n",
        "queue_service.put_message(queue_name, message)"
      ],
      "metadata": {
        "colab": {
          "base_uri": "https://localhost:8080/"
        },
        "id": "cZXWmFrL21-M",
        "outputId": "def13660-96bb-4513-f30a-5b3833c94819"
      },
      "execution_count": 19,
      "outputs": [
        {
          "output_type": "stream",
          "name": "stdout",
          "text": [
            "Adding message : Hello Queue\n"
          ]
        },
        {
          "output_type": "execute_result",
          "data": {
            "text/plain": [
              "<azure.storage.queue.models.QueueMessage at 0x7f2273d6e390>"
            ]
          },
          "metadata": {},
          "execution_count": 19
        }
      ]
    },
    {
      "cell_type": "code",
      "source": [
        "messages = queue_service.peek_messages(queue_name) # peek으로 문자 확인하기\n",
        "\n",
        "for peeked_message in messages:\n",
        "    message = base64.b64decode(peeked_message.content)\n",
        "    print('Peeked message : ' + message.decode('utf-8'))"
      ],
      "metadata": {
        "colab": {
          "base_uri": "https://localhost:8080/"
        },
        "id": "ApY_1RUR57k1",
        "outputId": "dee3ec19-4e89-4973-cee9-fb0fec65a035"
      },
      "execution_count": 22,
      "outputs": [
        {
          "output_type": "stream",
          "name": "stdout",
          "text": [
            "Peeked message : Hello Queue\n"
          ]
        }
      ]
    },
    {
      "cell_type": "code",
      "source": [
        "messages = queue_service.get_messages(queue_name) # 문자 가져오기 (Queue에서 빼오기)\n",
        "\n",
        "\n",
        "for msg in messages:\n",
        "    message = base64.b64decode(msg.content)\n",
        "    print('Message : ' + message.decode('utf-8'))"
      ],
      "metadata": {
        "id": "hbg5_lkk8hg6"
      },
      "execution_count": 25,
      "outputs": []
    },
    {
      "cell_type": "code",
      "source": [
        "# Queue 삭제\n",
        "print('Deleting queue : ' + queue_name)\n",
        "queue_service.delete_queue(queue_name)"
      ],
      "metadata": {
        "colab": {
          "base_uri": "https://localhost:8080/"
        },
        "id": "uqhg2Bsh-Mol",
        "outputId": "b7391724-9e35-4eb3-e02c-939da442f268"
      },
      "execution_count": 26,
      "outputs": [
        {
          "output_type": "stream",
          "name": "stdout",
          "text": [
            "Deleting queue : queue-624d620f-99c4-44f5-8f9f-7fe92c758840\n"
          ]
        },
        {
          "output_type": "execute_result",
          "data": {
            "text/plain": [
              "True"
            ]
          },
          "metadata": {},
          "execution_count": 26
        }
      ]
    },
    {
      "cell_type": "code",
      "source": [],
      "metadata": {
        "id": "79pgKjenCxBJ"
      },
      "execution_count": null,
      "outputs": []
    }
  ]
}