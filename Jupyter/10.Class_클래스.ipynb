{
 "cells": [
  {
   "cell_type": "code",
   "execution_count": 26,
   "id": "71f3d4ba",
   "metadata": {},
   "outputs": [],
   "source": [
    "class myClass:\n",
    "    pass #클래스 내부에 데이터를 비울때 pass사용"
   ]
  },
  {
   "cell_type": "markdown",
   "id": "c288067d",
   "metadata": {},
   "source": [
    "#class는 하나의 설계도면이고 그안에 내용은 인스턴스라고 한다"
   ]
  },
  {
   "cell_type": "code",
   "execution_count": 27,
   "id": "6fb15c63",
   "metadata": {},
   "outputs": [],
   "source": [
    "class Person:\n",
    "    Name = 'Default Name' #속성 Perperty\n",
    "    def Print(self): #클라스안에 동작하려면 self를 작성해줘야한다\n",
    "        print('My name is {0}'.format(self.Name))"
   ]
  },
  {
   "cell_type": "code",
   "execution_count": 28,
   "id": "95b88f07",
   "metadata": {},
   "outputs": [],
   "source": [
    "son = Person()"
   ]
  },
  {
   "cell_type": "code",
   "execution_count": 29,
   "id": "eed6d30e",
   "metadata": {},
   "outputs": [
    {
     "name": "stdout",
     "output_type": "stream",
     "text": [
      "My name is 손흥민\n"
     ]
    }
   ],
   "source": [
    "son.Name = '손흥민'\n",
    "son.Print()"
   ]
  },
  {
   "cell_type": "code",
   "execution_count": 30,
   "id": "1733addd",
   "metadata": {},
   "outputs": [],
   "source": [
    "p1 = Person() #p1값에 클래스 Person() 입력\n",
    "p2 = Person()"
   ]
  },
  {
   "cell_type": "code",
   "execution_count": 31,
   "id": "9628a80d",
   "metadata": {},
   "outputs": [],
   "source": [
    "p1.Name = '박보검' #p1값에서 클래스펄슨안에잇는 Name에 이름입력\n",
    "p2.Name = '민아'"
   ]
  },
  {
   "cell_type": "code",
   "execution_count": 39,
   "id": "7fea1656",
   "metadata": {},
   "outputs": [
    {
     "name": "stdout",
     "output_type": "stream",
     "text": [
      "My name is 박보검\n",
      "My name is 민아\n"
     ]
    }
   ],
   "source": [
    "p1.Print() # p1 - 펄슨 - 함수Print작동\n",
    "p2.Print()"
   ]
  },
  {
   "cell_type": "code",
   "execution_count": 40,
   "id": "183b0f7f",
   "metadata": {},
   "outputs": [],
   "source": [
    "# instance\n",
    "Person.title = 'New title' # class person에 'New title' 추가"
   ]
  },
  {
   "cell_type": "markdown",
   "id": "8e80403a",
   "metadata": {},
   "source": [
    "#클래스 값에 추가할 것들이 생기면 꼭 클래스 값에 추가하기, 인스턴스값에 추가 할 시 클래스에는 반영이 되지 않는다(제일 윗 머리에 추가해야 아래도 적용을 시킬 수 있다)"
   ]
  },
  {
   "cell_type": "code",
   "execution_count": 41,
   "id": "9c45d121",
   "metadata": {},
   "outputs": [],
   "source": [
    "#클래스의 상속\n",
    "class Person:\n",
    "    pass"
   ]
  },
  {
   "cell_type": "code",
   "execution_count": 42,
   "id": "95be66ba",
   "metadata": {},
   "outputs": [],
   "source": [
    "class Bird:\n",
    "    pass"
   ]
  },
  {
   "cell_type": "code",
   "execution_count": 44,
   "id": "68211a41",
   "metadata": {},
   "outputs": [],
   "source": [
    "class Student(Person): #Student는 Person에서 정보를 상속받는다\n",
    "    pass"
   ]
  },
  {
   "cell_type": "code",
   "execution_count": 47,
   "id": "306b1bb0",
   "metadata": {},
   "outputs": [],
   "source": [
    "p = Person()\n",
    "s = Student()"
   ]
  },
  {
   "cell_type": "code",
   "execution_count": 50,
   "id": "94abff21",
   "metadata": {},
   "outputs": [
    {
     "data": {
      "text/plain": [
       "True"
      ]
     },
     "execution_count": 50,
     "metadata": {},
     "output_type": "execute_result"
    }
   ],
   "source": [
    "isinstance(p,Person) # p값은 Person에서 나온애가 맞냐"
   ]
  },
  {
   "cell_type": "code",
   "execution_count": 53,
   "id": "92eb9b1f",
   "metadata": {},
   "outputs": [
    {
     "data": {
      "text/plain": [
       "True"
      ]
     },
     "execution_count": 53,
     "metadata": {},
     "output_type": "execute_result"
    }
   ],
   "source": [
    "isinstance(s,Person) # Student 클래스값에서 Person을 상속받아 True값이 나온다"
   ]
  },
  {
   "cell_type": "code",
   "execution_count": 62,
   "id": "4f9bbf4f",
   "metadata": {},
   "outputs": [
    {
     "data": {
      "text/plain": [
       "True"
      ]
     },
     "execution_count": 62,
     "metadata": {},
     "output_type": "execute_result"
    }
   ],
   "source": [
    "isinstance(s,object) #s는 object에서 나온애가 맞냐_오브젝트는 모든함수와 호환이 된다"
   ]
  },
  {
   "cell_type": "code",
   "execution_count": 92,
   "id": "1cf3497b",
   "metadata": {},
   "outputs": [],
   "source": [
    "#클래스 다이어그램 활용하기"
   ]
  },
  {
   "cell_type": "code",
   "execution_count": 93,
   "id": "21caebef",
   "metadata": {},
   "outputs": [],
   "source": [
    "#생성자, 소멸자\n",
    "\n",
    "class MyClass:\n",
    "    #생성자(이름이 __init__로 정해져 있다)\n",
    "    def __init__(self,value):\n",
    "        self.Value = value\n",
    "        print('Class is cerated! Value = ', value)\n",
    "    def __del__(self): #소멸자 이름 __del__이다\n",
    "        print('Class is deleted')\n",
    "        "
   ]
  },
  {
   "cell_type": "code",
   "execution_count": 94,
   "id": "97124777",
   "metadata": {},
   "outputs": [
    {
     "name": "stdout",
     "output_type": "stream",
     "text": [
      "Class is cerated! Value =  10\n"
     ]
    }
   ],
   "source": [
    "m = MyClass(10)"
   ]
  },
  {
   "cell_type": "code",
   "execution_count": 95,
   "id": "80601ed0",
   "metadata": {},
   "outputs": [
    {
     "name": "stdout",
     "output_type": "stream",
     "text": [
      "Class is deleted\n"
     ]
    }
   ],
   "source": [
    "del m #메모리에서  지움, 소멸자 동작"
   ]
  },
  {
   "cell_type": "code",
   "execution_count": 96,
   "id": "97c45d4c",
   "metadata": {},
   "outputs": [],
   "source": [
    "#정적 메소드\n",
    "class CounterManager: #인스턴스의 갯수를 확인한다(부모클래스에서 몇번의 자식인스턴스가 나왓나)\n",
    "    inCount = 0\n",
    "    def __init__(self):\n",
    "        CounterManager.insCount += 1\n",
    "    def printInstanceCount():\n",
    "        print('Instance Count:',CounterManager.inCount)"
   ]
  },
  {
   "cell_type": "code",
   "execution_count": 97,
   "id": "7d915304",
   "metadata": {},
   "outputs": [
    {
     "ename": "AttributeError",
     "evalue": "type object 'CounterManager' has no attribute 'insCount'",
     "output_type": "error",
     "traceback": [
      "\u001b[0;31m---------------------------------------------------------------------------\u001b[0m",
      "\u001b[0;31mAttributeError\u001b[0m                            Traceback (most recent call last)",
      "Input \u001b[0;32mIn [97]\u001b[0m, in \u001b[0;36m<cell line: 1>\u001b[0;34m()\u001b[0m\n\u001b[0;32m----> 1\u001b[0m a, b, c \u001b[38;5;241m=\u001b[39m \u001b[43mCounterManager\u001b[49m\u001b[43m(\u001b[49m\u001b[43m)\u001b[49m, CounterManager(), CounterManager()\n",
      "Input \u001b[0;32mIn [96]\u001b[0m, in \u001b[0;36mCounterManager.__init__\u001b[0;34m(self)\u001b[0m\n\u001b[1;32m      4\u001b[0m \u001b[38;5;28;01mdef\u001b[39;00m \u001b[38;5;21m__init__\u001b[39m(\u001b[38;5;28mself\u001b[39m):\n\u001b[0;32m----> 5\u001b[0m     CounterManager\u001b[38;5;241m.\u001b[39minsCount \u001b[38;5;241m+\u001b[39m\u001b[38;5;241m=\u001b[39m \u001b[38;5;241m1\u001b[39m\n",
      "\u001b[0;31mAttributeError\u001b[0m: type object 'CounterManager' has no attribute 'insCount'"
     ]
    }
   ],
   "source": [
    "a, b, c = CounterManager(), CounterManager(), CounterManager() #함수를 여러개 묶어서 데이터를 넣을 수 있다"
   ]
  },
  {
   "cell_type": "code",
   "execution_count": 98,
   "id": "f93934e7",
   "metadata": {},
   "outputs": [
    {
     "name": "stdout",
     "output_type": "stream",
     "text": [
      "Instance Count: 0\n"
     ]
    }
   ],
   "source": [
    "CounterManager.printInstanceCount()"
   ]
  },
  {
   "cell_type": "code",
   "execution_count": 99,
   "id": "339c981f",
   "metadata": {},
   "outputs": [],
   "source": [
    "#상속의 확장\n",
    "class Person:\n",
    "    def __init__(self,name,phone):\n",
    "        self.Name = name\n",
    "        self.Phone = phone\n",
    "    def PrintInfo(self):\n",
    "        print('Info(Name: {0}, Phone: {1})'.format(self.Name, self.Phone))\n",
    "        \n",
    "    def PrintPersonData(self):\n",
    "        print('Person(Name: {0}, Phone: {1})'.format(self.Name, self.Phone))\n",
    "    "
   ]
  },
  {
   "cell_type": "code",
   "execution_count": 118,
   "id": "4ba3f7ff",
   "metadata": {},
   "outputs": [],
   "source": [
    "class Student(Person):\n",
    "    def __init__(self,name,phone,subject,studentID):\n",
    "        self.Name = name\n",
    "        self.Phone = phone\n",
    "        self.Subject = subject\n",
    "        self.StudentID = studentID\n",
    "        \n",
    "    def PrintStudentID(self):\n",
    "        print(self.StudentID)"
   ]
  },
  {
   "cell_type": "code",
   "execution_count": 119,
   "id": "a6c65a57",
   "metadata": {},
   "outputs": [],
   "source": [
    "p = Person('IU','010-0000-0000')\n",
    "s = Student('MinA','010-1111-1111','Computer science', '00000')\n"
   ]
  },
  {
   "cell_type": "code",
   "execution_count": 120,
   "id": "4c0e3d57",
   "metadata": {},
   "outputs": [
    {
     "data": {
      "text/plain": [
       "{'Name': 'IU', 'Phone': '010-0000-0000'}"
      ]
     },
     "execution_count": 120,
     "metadata": {},
     "output_type": "execute_result"
    }
   ],
   "source": [
    "p.__dict__ #p가 가지고 있는 딕셔너리 데이터 확인 가능(__dict__)"
   ]
  },
  {
   "cell_type": "code",
   "execution_count": 121,
   "id": "b0d6bb0a",
   "metadata": {},
   "outputs": [
    {
     "data": {
      "text/plain": [
       "{'Name': 'MinA',\n",
       " 'Phone': '010-1111-1111',\n",
       " 'Subject': 'Computer science',\n",
       " 'StudentID': '00000'}"
      ]
     },
     "execution_count": 121,
     "metadata": {},
     "output_type": "execute_result"
    }
   ],
   "source": [
    "s.__dict__"
   ]
  },
  {
   "cell_type": "code",
   "execution_count": 122,
   "id": "4b0c5647",
   "metadata": {},
   "outputs": [
    {
     "name": "stdout",
     "output_type": "stream",
     "text": [
      "Info(Name: IU, Phone: 010-0000-0000)\n"
     ]
    }
   ],
   "source": [
    "p.PrintInfo()"
   ]
  },
  {
   "cell_type": "code",
   "execution_count": 123,
   "id": "fa0742e6",
   "metadata": {},
   "outputs": [
    {
     "name": "stdout",
     "output_type": "stream",
     "text": [
      "Info(Name: MinA, Phone: 010-1111-1111)\n"
     ]
    }
   ],
   "source": [
    "s.PrintInfo()"
   ]
  },
  {
   "cell_type": "code",
   "execution_count": 128,
   "id": "972dfd25",
   "metadata": {},
   "outputs": [
    {
     "name": "stdout",
     "output_type": "stream",
     "text": [
      "00000\n"
     ]
    }
   ],
   "source": [
    "s.PrintStudentID()"
   ]
  },
  {
   "cell_type": "code",
   "execution_count": 132,
   "id": "caf41aca",
   "metadata": {},
   "outputs": [
    {
     "data": {
      "text/plain": [
       "True"
      ]
     },
     "execution_count": 132,
     "metadata": {},
     "output_type": "execute_result"
    }
   ],
   "source": [
    "#상속 관계의 확인\n",
    "issubclass(Student,Person) #Student는 Person이 부모클래스이다"
   ]
  },
  {
   "cell_type": "code",
   "execution_count": 133,
   "id": "d6068dcb",
   "metadata": {},
   "outputs": [
    {
     "data": {
      "text/plain": [
       "False"
      ]
     },
     "execution_count": 133,
     "metadata": {},
     "output_type": "execute_result"
    }
   ],
   "source": [
    "issubclass(Person,Student)"
   ]
  },
  {
   "cell_type": "code",
   "execution_count": 135,
   "id": "730ae9ac",
   "metadata": {},
   "outputs": [],
   "source": [
    "#다중 상속(없어지는 추세), 관계가 복잡해져서 사용 잘 안함\n",
    "class Tiger:\n",
    "    def Jump(self):\n",
    "        print('Tiger Jump!!')"
   ]
  },
  {
   "cell_type": "code",
   "execution_count": 138,
   "id": "a6aabd3b",
   "metadata": {},
   "outputs": [],
   "source": [
    "class Lion:\n",
    "    def Bite(self):\n",
    "        print('Lion bite')"
   ]
  },
  {
   "cell_type": "code",
   "execution_count": 139,
   "id": "15ab77b6",
   "metadata": {},
   "outputs": [],
   "source": [
    "class  Liger(Tiger, Lion):\n",
    "    def Play(self):\n",
    "        print('Liger player')"
   ]
  },
  {
   "cell_type": "code",
   "execution_count": 140,
   "id": "a8d70972",
   "metadata": {},
   "outputs": [],
   "source": [
    "I = Liger()"
   ]
  },
  {
   "cell_type": "code",
   "execution_count": 142,
   "id": "0560ce03",
   "metadata": {},
   "outputs": [
    {
     "name": "stdout",
     "output_type": "stream",
     "text": [
      "Liger player\n"
     ]
    }
   ],
   "source": [
    "I.Play()"
   ]
  },
  {
   "cell_type": "code",
   "execution_count": 143,
   "id": "cb827685",
   "metadata": {},
   "outputs": [
    {
     "name": "stdout",
     "output_type": "stream",
     "text": [
      "Tiger Jump!!\n"
     ]
    }
   ],
   "source": [
    "I.Jump()"
   ]
  },
  {
   "cell_type": "code",
   "execution_count": 144,
   "id": "cee5b1b9",
   "metadata": {},
   "outputs": [
    {
     "name": "stdout",
     "output_type": "stream",
     "text": [
      "Lion bite\n"
     ]
    }
   ],
   "source": [
    "I.Bite()"
   ]
  },
  {
   "cell_type": "code",
   "execution_count": null,
   "id": "c5b6857a",
   "metadata": {},
   "outputs": [],
   "source": []
  }
 ],
 "metadata": {
  "kernelspec": {
   "display_name": "Python 3 (ipykernel)",
   "language": "python",
   "name": "python3"
  },
  "language_info": {
   "codemirror_mode": {
    "name": "ipython",
    "version": 3
   },
   "file_extension": ".py",
   "mimetype": "text/x-python",
   "name": "python",
   "nbconvert_exporter": "python",
   "pygments_lexer": "ipython3",
   "version": "3.9.12"
  }
 },
 "nbformat": 4,
 "nbformat_minor": 5
}
