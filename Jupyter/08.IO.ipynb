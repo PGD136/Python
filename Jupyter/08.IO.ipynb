{
 "cells": [
  {
   "cell_type": "code",
   "execution_count": 1,
   "id": "1fffaf01",
   "metadata": {},
   "outputs": [],
   "source": [
    "import sys"
   ]
  },
  {
   "cell_type": "code",
   "execution_count": 6,
   "id": "04a06eac",
   "metadata": {},
   "outputs": [
    {
     "name": "stderr",
     "output_type": "stream",
     "text": [
      "Welcom to Python\n"
     ]
    }
   ],
   "source": [
    "print('Welcom to','Python',file=sys.stderr) # 프린트 말을 경고표시로 프린트한다"
   ]
  },
  {
   "cell_type": "code",
   "execution_count": 12,
   "id": "07429a3e",
   "metadata": {},
   "outputs": [],
   "source": [
    "f = open('test.txt','w') #파일을 열고(없으면 생성) 작성모드('w')로 연다"
   ]
  },
  {
   "cell_type": "code",
   "execution_count": 13,
   "id": "4bd029fa",
   "metadata": {},
   "outputs": [],
   "source": [
    "print('file write', file=f) #f파일에 file write작성\n",
    "f.close() # 작성 후 꼭 닫아줘야한다. 나중에 깨질 수 있음"
   ]
  },
  {
   "cell_type": "markdown",
   "id": "f9da2654",
   "metadata": {},
   "source": [
    "#File IO\n",
    "file 입출력을 다루다 보면 print를 사용 할 수도 있지만 open을 사용하는게 좋다."
   ]
  },
  {
   "cell_type": "code",
   "execution_count": 17,
   "id": "4ad6e3e9",
   "metadata": {},
   "outputs": [],
   "source": [
    "f = open('test.txt','w') # 생성 및 열기\n",
    "f.write('plow deepWnwjile slugg') # 내용 작성\n",
    "f.close() # 파일닫기"
   ]
  },
  {
   "cell_type": "code",
   "execution_count": 20,
   "id": "a5f120d1",
   "metadata": {},
   "outputs": [],
   "source": [
    "f = open('test.txt','r') #내용을 읽어옴 (리드의 약자)\n",
    "f.read() # 내용을 불러옴\n",
    "f.close() # 파일을 열면 꼭 닫아줘야한다!!"
   ]
  },
  {
   "cell_type": "code",
   "execution_count": null,
   "id": "0a4e1423",
   "metadata": {},
   "outputs": [],
   "source": []
  },
  {
   "cell_type": "code",
   "execution_count": null,
   "id": "96ef91b7",
   "metadata": {},
   "outputs": [],
   "source": []
  },
  {
   "cell_type": "code",
   "execution_count": null,
   "id": "4c830182",
   "metadata": {},
   "outputs": [],
   "source": []
  }
 ],
 "metadata": {
  "kernelspec": {
   "display_name": "Python 3 (ipykernel)",
   "language": "python",
   "name": "python3"
  },
  "language_info": {
   "codemirror_mode": {
    "name": "ipython",
    "version": 3
   },
   "file_extension": ".py",
   "mimetype": "text/x-python",
   "name": "python",
   "nbconvert_exporter": "python",
   "pygments_lexer": "ipython3",
   "version": "3.9.12"
  }
 },
 "nbformat": 4,
 "nbformat_minor": 5
}
