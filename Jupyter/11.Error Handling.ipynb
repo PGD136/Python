{
 "cells": [
  {
   "cell_type": "code",
   "execution_count": 1,
   "id": "40ae5979",
   "metadata": {},
   "outputs": [],
   "source": [
    "#작업중 오류를 안내"
   ]
  },
  {
   "cell_type": "code",
   "execution_count": 4,
   "id": "6d51aa40",
   "metadata": {},
   "outputs": [
    {
     "name": "stdout",
     "output_type": "stream",
     "text": [
      "Error!!\n"
     ]
    }
   ],
   "source": [
    "try: #오류가 예상되는 작업\n",
    "    a = 12 / 0\n",
    "except: # 에러 시 작동\n",
    "    print('Error!!')"
   ]
  },
  {
   "cell_type": "code",
   "execution_count": 8,
   "id": "2e5e3cc0",
   "metadata": {},
   "outputs": [
    {
     "name": "stdout",
     "output_type": "stream",
     "text": [
      "에러의 원인은 division by zero 값을 변경해 주십시오.\n"
     ]
    }
   ],
   "source": [
    "try: #오류가 예상되는 작업\n",
    "    a = 12 / 0\n",
    "except Exception as e: # 에러 시 작동, e(에러값)이 나온다\n",
    "    print('에러의 원인은', e,'값을 변경해 주십시오.')"
   ]
  },
  {
   "cell_type": "code",
   "execution_count": null,
   "id": "75d66f8b",
   "metadata": {},
   "outputs": [],
   "source": []
  }
 ],
 "metadata": {
  "kernelspec": {
   "display_name": "Python 3 (ipykernel)",
   "language": "python",
   "name": "python3"
  },
  "language_info": {
   "codemirror_mode": {
    "name": "ipython",
    "version": 3
   },
   "file_extension": ".py",
   "mimetype": "text/x-python",
   "name": "python",
   "nbconvert_exporter": "python",
   "pygments_lexer": "ipython3",
   "version": "3.9.12"
  }
 },
 "nbformat": 4,
 "nbformat_minor": 5
}
